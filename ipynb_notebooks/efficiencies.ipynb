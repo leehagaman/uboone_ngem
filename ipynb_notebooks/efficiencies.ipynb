{
 "cells": [
  {
   "cell_type": "code",
   "execution_count": null,
   "id": "404fe24b",
   "metadata": {},
   "outputs": [],
   "source": [
    "import matplotlib.pyplot as plt\n",
    "import numpy as np\n",
    "import pandas as pd\n",
    "import pickle\n",
    "from tqdm.notebook import tqdm\n",
    "\n",
    "import sys\n",
    "import os\n",
    "sys.path.append(os.path.abspath(os.path.join(os.getcwd(), '..')))\n",
    "\n",
    "from src.signal_categories import topological_category_labels, topological_category_colors\n",
    "from src.signal_categories import physics_category_labels, physics_category_colors\n",
    "from src.signal_categories import filetype_category_labels, filetype_category_colors\n",
    "\n",
    "from src.file_locations import intermediate_files_location\n"
   ]
  },
  {
   "cell_type": "markdown",
   "id": "aee75768",
   "metadata": {},
   "source": [
    "# File Loading"
   ]
  },
  {
   "cell_type": "code",
   "execution_count": null,
   "id": "dcc7cae1",
   "metadata": {},
   "outputs": [],
   "source": [
    "training = \"first_combined_training\"\n",
    "#training = \"first_wc_training\"\n",
    "#training = \"first_lantern_training\""
   ]
  },
  {
   "cell_type": "code",
   "execution_count": null,
   "id": "ce2deec4",
   "metadata": {},
   "outputs": [],
   "source": [
    "print(\"loading all_df.pkl...\")\n",
    "with open(f\"{intermediate_files_location}/all_df.pkl\", \"rb\") as f:\n",
    "    all_df = pickle.load(f)\n",
    "print(f\"{all_df.shape=}\")\n",
    "\n",
    "# this only includes predictions for events passing the preselection used during training\n",
    "print(\"loading predictions.pkl...\")\n",
    "with open(f\"../training_outputs/{training}/predictions.pkl\", \"rb\") as f:\n",
    "    pred_df = pickle.load(f)\n",
    "print(f\"{pred_df.shape=}\")\n",
    "\n",
    "print(\"merging all_df and predictions.pkl...\")\n",
    "merged_df = pd.merge(all_df, pred_df, on=[\"filetype\", \"run\", \"subrun\", \"event\"], how=\"left\")\n",
    "\n",
    "sig_categories = topological_category_labels\n",
    "\n",
    "prob_categories = [\"prob_\" + cat for cat in sig_categories]\n",
    "\n",
    "for prob in prob_categories:\n",
    "    merged_df[prob] = merged_df[prob].fillna(-1)\n",
    "\n",
    "num_train_events = len(merged_df.query(\"used_for_training == True\"))\n",
    "num_test_events = len(merged_df.query(\"used_for_testing == True\"))\n",
    "frac_test = num_test_events / (num_train_events + num_test_events)\n",
    "print(f\"weighting up by the fraction of test events: {frac_test:.3f}\")\n",
    "\n",
    "modified_net_weights = []\n",
    "used_for_testing = merged_df[\"used_for_testing\"].to_numpy()\n",
    "wc_net_weights = merged_df[\"wc_net_weight\"].to_numpy()\n",
    "for i in range(len(merged_df)):\n",
    "    if used_for_testing[i]:\n",
    "        modified_net_weights.append(wc_net_weights[i] / frac_test)\n",
    "    else:\n",
    "        modified_net_weights.append(wc_net_weights[i])\n",
    "merged_df[\"wc_net_weight\"] = modified_net_weights         \n",
    "\n",
    "merged_df = merged_df.query(\"used_for_testing == True\")\n",
    "generic_merged_df = merged_df.query(\"wc_kine_reco_Enu > 0\")\n",
    "presel_merged_df = generic_merged_df.query(\"wc_shw_sp_n_20mev_showers > 0\")\n",
    "\n",
    "print(f\"{merged_df.shape=}\")\n",
    "print(f\"{generic_merged_df.shape=}\")\n",
    "print(f\"{presel_merged_df.shape=}\")\n"
   ]
  },
  {
   "cell_type": "code",
   "execution_count": null,
   "id": "b4186c07",
   "metadata": {},
   "outputs": [],
   "source": [
    "probs_2d_arr = presel_merged_df[prob_categories].to_numpy()\n",
    "reco_categories_argmax = np.argmax(probs_2d_arr, axis=1)\n",
    "presel_merged_df[\"reco_category_argmax_index\"] = reco_categories_argmax\n"
   ]
  },
  {
   "cell_type": "markdown",
   "id": "c94e657e",
   "metadata": {},
   "source": [
    "# Preselection Efficiencies"
   ]
  },
  {
   "cell_type": "code",
   "execution_count": null,
   "id": "c57c6b72",
   "metadata": {},
   "outputs": [],
   "source": [
    "breakdown_queries = []\n",
    "for label in topological_category_labels:\n",
    "    breakdown_queries.append(f\"topological_signal_category == '{label}'\")\n",
    "\n",
    "total_num_truth_by_category = [np.sum(merged_df.query(query)[\"wc_net_weight\"]) for query in breakdown_queries]\n",
    "total_num_generic_truth_by_category = [np.sum(generic_merged_df.query(query)[\"wc_net_weight\"]) for query in breakdown_queries]\n",
    "total_num_presel_truth_by_category = [np.sum(presel_merged_df.query(query)[\"wc_net_weight\"]) for query in breakdown_queries]\n",
    "\n",
    "print(\"WC Generic Selection Topological Efficiencies:\")\n",
    "for i in range(len(topological_category_labels)):\n",
    "    print(f\"{topological_category_labels[i]}: {total_num_presel_truth_by_category[i]} / {total_num_truth_by_category[i]} = {total_num_presel_truth_by_category[i] / total_num_truth_by_category[i]:.3f}\")\n",
    "\n",
    "print(\"Preselection Topological Efficiencies:\")\n",
    "for i in range(len(topological_category_labels)):\n",
    "    print(f\"{topological_category_labels[i]}: {total_num_presel_truth_by_category[i]} / {total_num_truth_by_category[i]} = {total_num_presel_truth_by_category[i] / total_num_truth_by_category[i]:.3f}\")\n"
   ]
  },
  {
   "cell_type": "markdown",
   "id": "e0905df0",
   "metadata": {},
   "source": [
    "# Argmax Efficiencies"
   ]
  },
  {
   "cell_type": "code",
   "execution_count": null,
   "id": "6776e006",
   "metadata": {},
   "outputs": [],
   "source": [
    "argmax_sel_matrix = np.zeros((len(topological_category_labels), len(topological_category_labels)))\n",
    "\n",
    "for i in range(len(topological_category_labels)):\n",
    "    for j in range(len(topological_category_labels)):\n",
    "        argmax_sel_matrix[i, j] = presel_merged_df.query(f\"topological_signal_category == '{topological_category_labels[i]}' and reco_category_argmax_index == {j}\")[\"wc_net_weight\"].sum()\n",
    "\n",
    "plt.figure(figsize=(10, 10))\n",
    "plt.imshow(argmax_sel_matrix, cmap=\"Blues\")\n",
    "for i in range(len(topological_category_labels)):\n",
    "    for j in range(len(topological_category_labels)):\n",
    "        plt.text(j, i, f'{argmax_sel_matrix[i,j]:.1f}', ha='center', va='center')\n",
    "plt.colorbar(label=\"Number of Events\")\n",
    "plt.xticks(range(len(topological_category_labels)), topological_category_labels, rotation=90)\n",
    "plt.yticks(range(len(topological_category_labels)), topological_category_labels)\n",
    "plt.xlabel(\"Reconstructed Category\")\n",
    "plt.ylabel(\"Truth Category\")\n",
    "plt.title(\"Argmax Selection Efficiency Matrix\")\n",
    "plt.show()\n"
   ]
  },
  {
   "cell_type": "markdown",
   "id": "04fd1e02",
   "metadata": {},
   "source": [
    "# 1g Efficiencies By Cut Value"
   ]
  },
  {
   "cell_type": "code",
   "execution_count": null,
   "id": "4ab4546b",
   "metadata": {},
   "outputs": [],
   "source": [
    "# for each 1g category, as well as combined 1g categories:\n",
    "# eff vs pur as function of cut value\n",
    "# compare with NC Delta selection curve\n",
    "# compare with Erin inclusive 1g curve and point\n",
    "# maybe ask Mark about including the gLEE point? Might be totally different with nugraph...\n",
    "\n"
   ]
  },
  {
   "cell_type": "code",
   "execution_count": null,
   "id": "3a19fa13",
   "metadata": {},
   "outputs": [],
   "source": []
  },
  {
   "cell_type": "code",
   "execution_count": null,
   "id": "1cace301",
   "metadata": {},
   "outputs": [],
   "source": []
  }
 ],
 "metadata": {
  "language_info": {
   "name": "python"
  }
 },
 "nbformat": 4,
 "nbformat_minor": 5
}
