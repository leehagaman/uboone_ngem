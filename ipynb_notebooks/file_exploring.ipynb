{
 "cells": [
  {
   "cell_type": "code",
   "execution_count": null,
   "id": "73353071",
   "metadata": {},
   "outputs": [],
   "source": [
    "import uproot\n",
    "print(\"uproot version: \", uproot.__version__)\n",
    "import numpy as np\n",
    "import matplotlib.pyplot as plt\n",
    "import pandas as pd\n",
    "from tqdm.notebook import tqdm\n",
    "import pickle\n",
    "\n",
    "import sys\n",
    "import os\n",
    "\n",
    "sys.path.append(os.path.abspath(os.path.join(os.getcwd(), '..')))\n",
    "\n",
    "from src.file_locations import data_files_location\n"
   ]
  },
  {
   "cell_type": "markdown",
   "id": "85275dee",
   "metadata": {},
   "source": [
    "# Looking at input SURPRISE ROOT Files"
   ]
  },
  {
   "cell_type": "code",
   "execution_count": null,
   "id": "02df9342",
   "metadata": {},
   "outputs": [],
   "source": [
    "f = uproot.open(data_files_location + \"/MCC9.10_Run4b_v10_04_07_09_Run4b_BNB_beam_off_surprise_reco2_hist.root\")\n",
    "for item in f.items():\n",
    "    print(item[0])"
   ]
  },
  {
   "cell_type": "code",
   "execution_count": null,
   "id": "e6bc8c7a",
   "metadata": {},
   "outputs": [],
   "source": [
    "f[\"lantern\"][\"EventTree\"].items()"
   ]
  },
  {
   "cell_type": "code",
   "execution_count": null,
   "id": "cce72b61",
   "metadata": {},
   "outputs": [],
   "source": [
    "f[\"lantern\"][\"EventTree\"][\"showerIsSecondary\"].array(library=\"np\")[36:40]"
   ]
  },
  {
   "cell_type": "code",
   "execution_count": null,
   "id": "0fc1b807",
   "metadata": {},
   "outputs": [],
   "source": [
    "f[\"lantern\"][\"EventTree\"][\"showerRecoE\"].array(library=\"np\")[36:40]"
   ]
  },
  {
   "cell_type": "code",
   "execution_count": null,
   "id": "8093bb72",
   "metadata": {},
   "outputs": [],
   "source": [
    "f[\"lantern\"][\"EventTree\"][\"showerFromNeutralScore\"].array(library=\"np\")[36:40]"
   ]
  },
  {
   "cell_type": "code",
   "execution_count": null,
   "id": "6310b38f",
   "metadata": {},
   "outputs": [],
   "source": []
  },
  {
   "cell_type": "code",
   "execution_count": null,
   "id": "c38cea74",
   "metadata": {},
   "outputs": [],
   "source": [
    "print(1/0)"
   ]
  },
  {
   "cell_type": "code",
   "execution_count": null,
   "id": "39151e74",
   "metadata": {},
   "outputs": [],
   "source": [
    "f[\"nuselection\"][\"NeutrinoSelectionFilter\"].items()"
   ]
  },
  {
   "cell_type": "code",
   "execution_count": null,
   "id": "a65b6364",
   "metadata": {},
   "outputs": [],
   "source": []
  },
  {
   "cell_type": "code",
   "execution_count": null,
   "id": "8e805e95",
   "metadata": {},
   "outputs": [],
   "source": [
    "print(1/0)"
   ]
  },
  {
   "cell_type": "code",
   "execution_count": null,
   "id": "d3b2b2bf",
   "metadata": {},
   "outputs": [],
   "source": [
    "print(\"\\nnewest del1g file:\")\n",
    "f = uproot.open(data_files_location + \"/UNUSED_newer_one_test_del1g_ntuple_file.root\")\n",
    "for item in f.items():\n",
    "    if \"lantern\" in item[0]:\n",
    "        print(item[0])\n",
    "\n",
    "print(\"\\nnew del1g file:\")\n",
    "f = uproot.open(data_files_location + \"/UNUSED_one_test_del1g_ntuple_file.root\")\n",
    "for item in f.items():\n",
    "    if \"lantern\" in item[0]:\n",
    "        print(item[0])\n",
    "\n",
    "print(\"\\nold del1g file:\")\n",
    "f = uproot.open(data_files_location + \"/UNUSED_delete_one_gamma_run45_1k.root\")\n",
    "for item in f.items():\n",
    "    if \"lantern\" in item[0]:\n",
    "        print(item[0])\n",
    "\n",
    "print(\"\\nnue overlay file:\")\n",
    "f = uproot.open(data_files_location + \"/checkout_MCC9.10_Run4a4c4d5_v10_04_07_13_BNB_intrinsic_nue_overlay_surprise_reco2_hist_4a.root\")\n",
    "for item in f.items():\n",
    "    if \"lantern\" in item[0]:\n",
    "        print(item[0])"
   ]
  },
  {
   "cell_type": "code",
   "execution_count": null,
   "id": "06e4f6c3",
   "metadata": {},
   "outputs": [],
   "source": [
    "f = uproot.open(data_files_location + \"/checkout_MCC9.10_Run4a4c4d5_v10_04_07_13_BNB_intrinsic_nue_overlay_surprise_reco2_hist_4a.root\")\n",
    "for item in f.items():\n",
    "    print(item[0])\n"
   ]
  },
  {
   "cell_type": "code",
   "execution_count": null,
   "id": "4c849367",
   "metadata": {},
   "outputs": [],
   "source": [
    "f = uproot.open(data_files_location + \"/UNUSED_one_test_del1g_ntuple_file.root\")\n",
    "f.items()"
   ]
  },
  {
   "cell_type": "code",
   "execution_count": null,
   "id": "946188e5",
   "metadata": {},
   "outputs": [],
   "source": [
    "f = uproot.open(data_files_location + \"/UNUSED_one_test_del1g_ntuple_file.root\")\n",
    "print(f[\"wcpselection\"][\"T_PFeval\"][\"evtTimeNS\"].array(library=\"np\"))\n",
    "\n",
    "f = uproot.open(data_files_location + \"/UNUSED_one_test_iso1g_ntuple_file.root\")\n",
    "print(f[\"wcpselection\"][\"T_PFeval\"][\"evtTimeNS\"].array(library=\"np\"))"
   ]
  },
  {
   "cell_type": "code",
   "execution_count": null,
   "id": "dda51fdf",
   "metadata": {},
   "outputs": [],
   "source": [
    "for filename in os.listdir(data_files_location):\n",
    "    f = uproot.open(data_files_location + \"/\" + filename)\n",
    "    pf_items = f[\"wcpselection\"][\"T_PFeval\"].items()\n",
    "    pf_varnames = [item[0] for item in pf_items]\n",
    "    eval_items = f[\"wcpselection\"][\"T_eval\"].items()\n",
    "    eval_varnames = [item[0] for item in eval_items]\n",
    "    bdt_items = f[\"wcpselection\"][\"T_BDTvars\"].items()\n",
    "    bdt_varnames = [item[0] for item in bdt_items]\n",
    "    contains_WCPMTInfo = False\n",
    "    for varname in pf_varnames:\n",
    "        if \"WCPMTInfo\" in varname:\n",
    "            contains_WCPMTInfo = True\n",
    "    for varname in eval_varnames:\n",
    "        if \"WCPMTInfo\" in varname:\n",
    "            contains_WCPMTInfo = True\n",
    "    for varname in bdt_varnames:\n",
    "        if \"WCPMTInfo\" in varname:\n",
    "            contains_WCPMTInfo = True\n",
    "    num_events = f[\"wcpselection\"][\"T_eval\"].num_entries\n",
    "    print(f'{filename.ljust(100)}', f'{contains_WCPMTInfo=}', f'{num_events=}')\n"
   ]
  },
  {
   "cell_type": "code",
   "execution_count": null,
   "id": "6d45140a",
   "metadata": {},
   "outputs": [],
   "source": [
    "f = uproot.open(data_files_location + \"/MCC9.10_Run4b_v10_04_07_09_BNB_nu_overlay_surprise_reco2_hist.root\")\n",
    "\n",
    "f[\"wcpselection\"][\"T_eval\"].items()\n"
   ]
  },
  {
   "cell_type": "code",
   "execution_count": null,
   "id": "81a61dc6",
   "metadata": {},
   "outputs": [],
   "source": [
    "f = uproot.open(data_files_location + \"/MCC9.10_Run4b_v10_04_07_09_BNB_nu_overlay_surprise_reco2_hist.root\")\n",
    "\n",
    "num_events = None\n",
    "\n",
    "wc_eval_df = f[\"wcpselection\"][\"T_eval\"].arrays([\"run\", \"subrun\", \"event\", \"truth_isCC\", \"truth_nuPdg\"], library=\"pd\", entry_stop=num_events)\n",
    "wc_pfeval_df = f[\"wcpselection\"][\"T_PFeval\"].arrays([\"truth_NCDelta\"], library=\"pd\", entry_stop=num_events)\n",
    "\n",
    "wc_truth_df = f[\"wcpselection\"][\"T_PFeval\"].arrays([\"truth_pdg\", \"truth_mother\"], library=\"pd\", entry_stop=num_events)\n",
    "wc_truth_pdgs = wc_truth_df[\"truth_pdg\"].to_numpy()\n",
    "wc_truth_mothers = wc_truth_df[\"truth_mother\"].to_numpy()\n",
    "prim_pdgs = []\n",
    "all_pdgs = []\n",
    "for i in tqdm(range(len(wc_truth_pdgs))):\n",
    "    curr_prim_pdgs = []\n",
    "    curr_all_pdgs = []\n",
    "    for j in range(len(wc_truth_pdgs[i])):\n",
    "        curr_all_pdgs.append(wc_truth_pdgs[i][j])\n",
    "        if wc_truth_mothers[i][j] == 0:\n",
    "            if wc_truth_pdgs[i][j] not in curr_prim_pdgs:# and abs(wc_truth_pdgs[i][j]) < 10000:\n",
    "                curr_prim_pdgs.append(wc_truth_pdgs[i][j])\n",
    "    prim_pdgs.append(curr_prim_pdgs)\n",
    "    all_pdgs.append(curr_all_pdgs)\n",
    "wc_pfeval_df[\"all_geant_pdgs\"] = all_pdgs\n",
    "wc_pfeval_df[\"geant_unique_nonnuc_prim_pdgs\"] = prim_pdgs\n",
    "\n",
    "wc_df = pd.concat([wc_eval_df, wc_pfeval_df], axis=1)\n",
    "# add prefix to columns\n",
    "wc_df.columns = [\"wc_\" + col for col in wc_df.columns]\n",
    "\n",
    "glee_df = f[\"singlephotonana\"][\"vertex_tree\"].arrays([\"mctruth_is_delta_radiative\", \"mctruth_delta_radiative_1g1p_or_1g1n\", \"mctruth_cc_or_nc\", \"mctruth_delta_photon_energy\"], library=\"pd\", entry_stop=num_events)\n",
    "glee_df.columns = [\"glee_\" + col for col in glee_df.columns]\n",
    "\n",
    "df = pd.concat([wc_df, glee_df], axis=1)\n",
    "print(\"original num events: \", len(df))\n",
    "normal_ncdelta_df = df.query(\"wc_truth_NCDelta == 1 and wc_truth_isCC == False\")\n",
    "weird_df = df.query(\"wc_truth_NCDelta == 1 and wc_truth_isCC == True\")\n",
    "print(\"num events with wc_truth_NCDelta == 1 and wc_truth_isCC == True: \", len(weird_df))\n",
    "print(\"num events with wc_truth_NCDelta == 1 and wc_truth_isCC == False: \", len(normal_ncdelta_df))\n",
    "display(df)\n",
    "display(weird_df)\n"
   ]
  },
  {
   "cell_type": "code",
   "execution_count": null,
   "id": "0d6d10c0",
   "metadata": {},
   "outputs": [],
   "source": []
  },
  {
   "cell_type": "code",
   "execution_count": null,
   "id": "32076046",
   "metadata": {},
   "outputs": [],
   "source": []
  },
  {
   "cell_type": "code",
   "execution_count": null,
   "id": "67486c5b",
   "metadata": {},
   "outputs": [],
   "source": [
    "print(1/0)"
   ]
  },
  {
   "cell_type": "code",
   "execution_count": null,
   "id": "87bb3a19",
   "metadata": {},
   "outputs": [],
   "source": []
  },
  {
   "cell_type": "code",
   "execution_count": null,
   "id": "fcdcd5ac",
   "metadata": {},
   "outputs": [],
   "source": [
    "f = uproot.open(\"/Users/leehagaman/uboone_python/uboone_ngem/data_files/SURPRISE_Test_Samples_v10_04_07_05_Run4b_hyper_unified_reco2_BNB_nu_NC_pi0_overlay_may8_reco2_hist_62280465_snapshot.root\")\n"
   ]
  },
  {
   "cell_type": "code",
   "execution_count": null,
   "id": "d66140e4",
   "metadata": {},
   "outputs": [],
   "source": [
    "print(\"lantern vertex variables:\")\n",
    "for item in f[\"lantern\"][\"EventTree\"].items():\n",
    "    if \"true\" not in item[0]:\n",
    "        if \"vtx\" in item[0] or \"vertex\" in item[0]:\n",
    "            print(item[0], f[\"lantern\"][\"EventTree\"][item[0]].array()[0])\n"
   ]
  },
  {
   "cell_type": "code",
   "execution_count": null,
   "id": "ebe166f9",
   "metadata": {},
   "outputs": [],
   "source": [
    "print(\"\\nlantern shower variables:\")\n",
    "for item in f[\"lantern\"][\"EventTree\"].items():\n",
    "    if \"true\" not in item[0]:\n",
    "        if \"shower\" in item[0].lower():\n",
    "            print(item[0], f[\"lantern\"][\"EventTree\"][item[0]].array()[0])\n",
    "\n"
   ]
  },
  {
   "cell_type": "code",
   "execution_count": null,
   "id": "c87b1203",
   "metadata": {},
   "outputs": [],
   "source": [
    "f[\"lantern\"][\"EventTree\"][\"nTracks\"].array()"
   ]
  },
  {
   "cell_type": "code",
   "execution_count": null,
   "id": "84174b49",
   "metadata": {},
   "outputs": [],
   "source": [
    "f[\"lantern\"][\"EventTree\"][\"nShowers\"].array()"
   ]
  },
  {
   "cell_type": "code",
   "execution_count": null,
   "id": "8eef8242",
   "metadata": {},
   "outputs": [],
   "source": [
    "print(\"\\nlantern track variables:\")\n",
    "for item in f[\"lantern\"][\"EventTree\"].items():\n",
    "    if \"true\" not in item[0]:\n",
    "        if \"track\" in item[0].lower():\n",
    "            print(item[0], f[\"lantern\"][\"EventTree\"][item[0]].array()[0])\n",
    "\n"
   ]
  },
  {
   "cell_type": "code",
   "execution_count": null,
   "id": "92bec32e",
   "metadata": {},
   "outputs": [],
   "source": [
    "print(\"\\nlantern other variables:\")\n",
    "for item in f[\"lantern\"][\"EventTree\"].items():\n",
    "    if \"true\" not in item[0].lower():\n",
    "        if \"vtx\" not in item[0] and \"weight\" not in item[0].lower() and item[0] not in [\"run\", \"subrun\", \"event\", \"fileid\"]:\n",
    "            if \"track\" not in item[0].lower() and \"shower\" not in item[0].lower():\n",
    "                print(item[0], f[\"lantern\"][\"EventTree\"][item[0]].array()[0])"
   ]
  },
  {
   "cell_type": "code",
   "execution_count": null,
   "id": "d699882c",
   "metadata": {},
   "outputs": [],
   "source": [
    "f[\"lantern\"][\"EventTree\"][\"kpMaxScore\"].array()"
   ]
  },
  {
   "cell_type": "code",
   "execution_count": null,
   "id": "76d26539",
   "metadata": {},
   "outputs": [],
   "source": []
  },
  {
   "cell_type": "code",
   "execution_count": null,
   "id": "286ed188",
   "metadata": {},
   "outputs": [],
   "source": [
    "print(1/0)"
   ]
  },
  {
   "cell_type": "code",
   "execution_count": null,
   "id": "79825651",
   "metadata": {},
   "outputs": [],
   "source": [
    "f[\"wcpselection\"][\"T_PFeval\"][\"reco_truthMatch_pdg\"].items()"
   ]
  },
  {
   "cell_type": "code",
   "execution_count": null,
   "id": "363d9dbf",
   "metadata": {},
   "outputs": [],
   "source": [
    "f[\"wcpselection\"][\"T_eval\"].items()"
   ]
  },
  {
   "cell_type": "code",
   "execution_count": null,
   "id": "8378b3d5",
   "metadata": {},
   "outputs": [],
   "source": [
    "f[\"wcpselection\"][\"T_PFeval\"].items()"
   ]
  },
  {
   "cell_type": "code",
   "execution_count": null,
   "id": "22fbbde8",
   "metadata": {},
   "outputs": [],
   "source": [
    "print(1/0)"
   ]
  },
  {
   "cell_type": "code",
   "execution_count": null,
   "id": "071d5798",
   "metadata": {},
   "outputs": [],
   "source": [
    "f[\"nuselection\"][\"NeutrinoSelectionFilter\"].items()"
   ]
  },
  {
   "cell_type": "code",
   "execution_count": null,
   "id": "9c02a483",
   "metadata": {},
   "outputs": [],
   "source": [
    "for item in f[\"singlephotonana\"][\"vertex_tree\"].items():\n",
    "    if \"sss\" in item[0]:\n",
    "        print(f'\"{item[0]}\",')"
   ]
  },
  {
   "cell_type": "code",
   "execution_count": null,
   "id": "d18085c8",
   "metadata": {},
   "outputs": [],
   "source": [
    "f[\"singlephotonana\"][\"vertex_tree\"][\"sss3d_shower_score\"].array()"
   ]
  },
  {
   "cell_type": "code",
   "execution_count": null,
   "id": "775ba93c",
   "metadata": {},
   "outputs": [],
   "source": [
    "for item in f[\"lantern\"][\"EventTree\"].items():\n",
    "    var = item[0]\n",
    "    if \"true\" not in var:\n",
    "        print(var)"
   ]
  },
  {
   "cell_type": "markdown",
   "id": "40b892c7",
   "metadata": {},
   "source": [
    "# Looking at dataframes"
   ]
  },
  {
   "cell_type": "code",
   "execution_count": null,
   "id": "0b1fce59",
   "metadata": {},
   "outputs": [],
   "source": [
    "with open(\"/Users/leehagaman/uboone_python/uboone_ngem/intermediate_files/all_df.pkl\", \"rb\") as f:\n",
    "    all_df = pickle.load(f)\n",
    "\n",
    "all_df.head()"
   ]
  },
  {
   "cell_type": "code",
   "execution_count": null,
   "id": "035e196a",
   "metadata": {},
   "outputs": [],
   "source": [
    "lantern_cols = [col for col in all_df.columns if \"lantern\" in col]\n",
    "lantern_df = all_df[lantern_cols]\n",
    "\n",
    "# print each element in the first row of all_df\n",
    "for col in lantern_df.columns:\n",
    "    print(f\"{col}: {lantern_df[col][0]}\")\n",
    "\n",
    "lantern_df"
   ]
  },
  {
   "cell_type": "code",
   "execution_count": null,
   "id": "3cb0e1d3",
   "metadata": {},
   "outputs": [],
   "source": [
    "all_df.columns"
   ]
  },
  {
   "cell_type": "code",
   "execution_count": null,
   "id": "9c12af2f",
   "metadata": {},
   "outputs": [],
   "source": [
    "np.nan_to_num(all_df[\"glee_max_ssv_score\"], nan=-999)"
   ]
  },
  {
   "cell_type": "code",
   "execution_count": null,
   "id": "d7f6179d",
   "metadata": {},
   "outputs": [],
   "source": [
    "plt.hist(np.nan_to_num(all_df[\"glee_max_ssv_score\"], nan=-999), bins=100)"
   ]
  },
  {
   "cell_type": "code",
   "execution_count": null,
   "id": "853dbd74",
   "metadata": {},
   "outputs": [],
   "source": [
    "all_df[[col for col in all_df.columns if \"glee\" in col]]"
   ]
  },
  {
   "cell_type": "code",
   "execution_count": null,
   "id": "d6d1d3db",
   "metadata": {},
   "outputs": [],
   "source": [
    "for col in all_df.columns:\n",
    "    if \"glee\" in col:\n",
    "        print(f\"{col}: {all_df[col][0]}\")"
   ]
  },
  {
   "cell_type": "code",
   "execution_count": null,
   "id": "fbcd9120",
   "metadata": {},
   "outputs": [],
   "source": [
    "all_df[[col for col in all_df.columns if \"blip\" in col]]"
   ]
  },
  {
   "cell_type": "code",
   "execution_count": null,
   "id": "12fafff5",
   "metadata": {},
   "outputs": [],
   "source": [
    "all_df[\"glee_sss_candidate_veto_score\"]"
   ]
  },
  {
   "cell_type": "code",
   "execution_count": null,
   "id": "6388d48f",
   "metadata": {},
   "outputs": [],
   "source": [
    "all_df[['wc_pandora_dist', 'wc_pandora_sce_dist','wc_lantern_dist', 'lantern_pandora_dist', 'lantern_pandora_sce_dist']]\n",
    "\n",
    "plt.figure(figsize=(10, 5))\n",
    "bins = np.linspace(0, 10, 100)\n",
    "plt.hist(all_df['wc_pandora_dist'], histtype='step', bins=bins, label='WC Pandora')\n",
    "plt.hist(all_df['wc_pandora_sce_dist'], histtype='step', bins=bins, label='WC Pandora SCE')\n",
    "plt.hist(all_df['wc_lantern_dist'], histtype='step', bins=bins, label='WC Lantern')\n",
    "plt.hist(all_df['lantern_pandora_dist'], histtype='step', bins=bins, label='Lantern Pandora')\n",
    "plt.hist(all_df['lantern_pandora_sce_dist'], histtype='step', bins=bins, label='Lantern Pandora SCE')\n",
    "plt.legend()\n",
    "plt.show()"
   ]
  },
  {
   "cell_type": "code",
   "execution_count": null,
   "id": "7eec7937",
   "metadata": {},
   "outputs": [],
   "source": [
    "all_df[\"wc_reco_nuvtxX\"]"
   ]
  },
  {
   "cell_type": "code",
   "execution_count": null,
   "id": "6cf0a6f9",
   "metadata": {},
   "outputs": [],
   "source": [
    "all_df[\"pelee_reco_nu_vtx_x\"]"
   ]
  },
  {
   "cell_type": "code",
   "execution_count": null,
   "id": "5bcb29eb",
   "metadata": {},
   "outputs": [],
   "source": [
    "all_df[\"lantern_vtxX\"]"
   ]
  },
  {
   "cell_type": "code",
   "execution_count": null,
   "id": "d74b9c79",
   "metadata": {},
   "outputs": [],
   "source": []
  }
 ],
 "metadata": {
  "kernelspec": {
   "display_name": "uv_base",
   "language": "python",
   "name": "python3"
  },
  "language_info": {
   "codemirror_mode": {
    "name": "ipython",
    "version": 3
   },
   "file_extension": ".py",
   "mimetype": "text/x-python",
   "name": "python",
   "nbconvert_exporter": "python",
   "pygments_lexer": "ipython3",
   "version": "3.11.13"
  }
 },
 "nbformat": 4,
 "nbformat_minor": 5
}
