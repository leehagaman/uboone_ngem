{
 "cells": [
  {
   "cell_type": "code",
   "execution_count": 4,
   "metadata": {},
   "outputs": [],
   "source": [
    "import numpy as np\n",
    "import matplotlib.pyplot as plt\n",
    "import pandas as pd\n",
    "\n",
    "import sys\n",
    "import os\n",
    "sys.path.append(os.path.abspath(os.path.join(os.getcwd(), '..')))\n",
    "\n",
    "from src.plotting_3d import plot_event\n"
   ]
  },
  {
   "cell_type": "code",
   "execution_count": 14,
   "metadata": {},
   "outputs": [],
   "source": [
    "all_df = pd.read_pickle(\"data_files/all_df.pkl\")\n"
   ]
  },
  {
   "cell_type": "code",
   "execution_count": 15,
   "metadata": {},
   "outputs": [
    {
     "data": {
      "text/plain": [
       "Index(['wc_nue_score', 'wc_numu_score', 'wc_nc_delta_score', 'wc_nc_pio_score',\n",
       "       'wc_numu_cc_flag', 'wc_run', 'wc_subrun', 'wc_event', 'wc_match_isFC',\n",
       "       'wc_truth_nuEnergy',\n",
       "       ...\n",
       "       'proton_blip_x', 'proton_blip_y', 'proton_blip_z', 'proton_blip_energy',\n",
       "       'other_blip_x', 'other_blip_y', 'other_blip_z', 'other_blip_energy',\n",
       "       'pelee_shr_energy', 'net_weight'],\n",
       "      dtype='object', length=105)"
      ]
     },
     "execution_count": 15,
     "metadata": {},
     "output_type": "execute_result"
    }
   ],
   "source": [
    "all_df.columns"
   ]
  },
  {
   "cell_type": "code",
   "execution_count": 16,
   "metadata": {},
   "outputs": [],
   "source": [
    "# event with a proton blip upstream of one shower\n",
    "event_index = 7\n",
    "\n",
    "# each entry is name : (points, color, cmap, size, visible)\n",
    "points_dic = {}\n",
    "\n",
    "points_dic[\"WC_reco_nu_vtx\"] = (\n",
    "    np.array([all_df[\"wc_reco_nuvtxX\"].to_numpy()[event_index], all_df[\"wc_reco_nuvtxY\"].to_numpy()[event_index], all_df[\"wc_reco_nuvtxZ\"].to_numpy()[event_index]]),\n",
    "    \"green\",\n",
    "    None,\n",
    "    10,\n",
    "    \"legendonly\"\n",
    ")\n",
    "points_dic[\"true_nu_vtx\"] = (\n",
    "    np.array([all_df[\"wc_truth_vtxX\"].to_numpy()[event_index], all_df[\"wc_truth_vtxY\"].to_numpy()[event_index], all_df[\"wc_truth_vtxZ\"].to_numpy()[event_index]]),\n",
    "    \"red\",\n",
    "    None,\n",
    "    10,\n",
    "    \"legendonly\"\n",
    ")\n",
    "points_dic[\"true_corr_nu_vtx\"] = (\n",
    "    np.array([all_df[\"wc_truth_corr_nuvtxX\"].to_numpy()[event_index], all_df[\"wc_truth_corr_nuvtxY\"].to_numpy()[event_index], all_df[\"wc_truth_corr_nuvtxZ\"].to_numpy()[event_index]]),\n",
    "    \"yellow\",\n",
    "    None,\n",
    "    10,\n",
    "    \"legendonly\"\n",
    ")\n",
    "points_dic[\"Trec_spacepoints\"] = (\n",
    "    np.vstack((all_df[\"wc_Trec_spacepoints_x\"].to_numpy()[event_index], all_df[\"wc_Trec_spacepoints_y\"].to_numpy()[event_index], all_df[\"wc_Trec_spacepoints_z\"].to_numpy()[event_index])).T,\n",
    "    \"red\",\n",
    "    None,\n",
    "    1,\n",
    "    \"legendonly\"\n",
    ")\n",
    "points_dic[\"Treccharge_spacepoints\"] = (\n",
    "    np.vstack((all_df[\"wc_Treccharge_spacepoints_x\"].to_numpy()[event_index], all_df[\"wc_Treccharge_spacepoints_y\"].to_numpy()[event_index], all_df[\"wc_Treccharge_spacepoints_z\"].to_numpy()[event_index])).T,\n",
    "    \"blue\",\n",
    "    None,\n",
    "    1,\n",
    "    \"legendonly\"\n",
    ")\n",
    "points_dic[\"Trecchargeblob_spacepoints\"] = (\n",
    "    np.vstack((all_df[\"wc_Trecchargeblob_spacepoints_x\"].to_numpy()[event_index], all_df[\"wc_Trecchargeblob_spacepoints_y\"].to_numpy()[event_index], all_df[\"wc_Trecchargeblob_spacepoints_z\"].to_numpy()[event_index])).T,\n",
    "    all_df[\"wc_Trecchargeblob_spacepoints_q\"].to_numpy()[event_index],\n",
    "    \"jet\",\n",
    "    1,\n",
    "    True\n",
    ")\n",
    "\n",
    "points_dic[\"electron blips\"] = (\n",
    "    np.vstack((all_df[\"electron_blip_x\"].to_numpy()[event_index], all_df[\"electron_blip_y\"].to_numpy()[event_index], all_df[\"electron_blip_z\"].to_numpy()[event_index])).T,\n",
    "    \"orange\",\n",
    "    None,\n",
    "    5,\n",
    "    True\n",
    ")\n",
    "points_dic[\"proton blips\"] = (\n",
    "    np.vstack((all_df[\"proton_blip_x\"].to_numpy()[event_index], all_df[\"proton_blip_y\"].to_numpy()[event_index], all_df[\"proton_blip_z\"].to_numpy()[event_index])).T,\n",
    "    \"blue\",\n",
    "    None,\n",
    "    5,\n",
    "    True\n",
    ")\n",
    "points_dic[\"other blips\"] = (\n",
    "    np.vstack((all_df[\"other_blip_x\"].to_numpy()[event_index], all_df[\"other_blip_y\"].to_numpy()[event_index], all_df[\"other_blip_z\"].to_numpy()[event_index])).T,\n",
    "    \"purple\",\n",
    "    None,\n",
    "    5,\n",
    "    True\n",
    ")\n",
    "\n",
    "plot_event(event_index, points_dic)\n"
   ]
  },
  {
   "cell_type": "code",
   "execution_count": null,
   "metadata": {},
   "outputs": [],
   "source": []
  },
  {
   "cell_type": "code",
   "execution_count": null,
   "metadata": {},
   "outputs": [],
   "source": []
  },
  {
   "cell_type": "code",
   "execution_count": null,
   "metadata": {},
   "outputs": [],
   "source": []
  }
 ],
 "metadata": {
  "kernelspec": {
   "display_name": "base_2",
   "language": "python",
   "name": "python3"
  },
  "language_info": {
   "codemirror_mode": {
    "name": "ipython",
    "version": 3
   },
   "file_extension": ".py",
   "mimetype": "text/x-python",
   "name": "python",
   "nbconvert_exporter": "python",
   "pygments_lexer": "ipython3",
   "version": "3.10.10"
  }
 },
 "nbformat": 4,
 "nbformat_minor": 2
}
