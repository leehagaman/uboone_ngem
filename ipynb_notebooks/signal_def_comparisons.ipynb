{
 "cells": [
  {
   "cell_type": "code",
   "execution_count": 1,
   "id": "460ca1d0",
   "metadata": {},
   "outputs": [],
   "source": [
    "import matplotlib.pyplot as plt\n",
    "import numpy as np\n",
    "import pandas as pd\n",
    "import pickle\n",
    "from tqdm.notebook import tqdm\n",
    "\n",
    "import uproot\n",
    "\n",
    "import sys\n",
    "import os\n",
    "sys.path.append(os.path.abspath(os.path.join(os.getcwd(), '..')))\n",
    "\n",
    "from src.signal_categories import topological_category_labels, topological_category_colors\n",
    "from src.signal_categories import physics_category_labels, physics_category_colors\n",
    "from src.signal_categories import filetype_category_labels, filetype_category_colors\n",
    "\n",
    "from src.file_locations import intermediate_files_location\n"
   ]
  },
  {
   "cell_type": "code",
   "execution_count": 2,
   "id": "87dc52f6",
   "metadata": {},
   "outputs": [
    {
     "name": "stdout",
     "output_type": "stream",
     "text": [
      "loading all_df.pkl...\n",
      "all_df.shape=(2171921, 200)\n"
     ]
    }
   ],
   "source": [
    "print(\"loading all_df.pkl...\")\n",
    "with open(f\"{intermediate_files_location}/all_df.pkl\", \"rb\") as f:\n",
    "    all_df = pickle.load(f)\n",
    "print(f\"{all_df.shape=}\")"
   ]
  },
  {
   "cell_type": "code",
   "execution_count": 3,
   "id": "abfbf99a",
   "metadata": {},
   "outputs": [],
   "source": [
    "all_df[\"wc_truth_muonMomentum_3\"] = [-1 if isinstance(x, float) else x[3] for x in all_df[\"wc_truth_muonMomentum\"].to_numpy()]\n",
    "\n",
    "#erin_sig_query = \"(wc_match_completeness_energy>0.1*wc_truth_energyInside and wc_truth_single_photon==1 and (wc_truth_isCC==0 or (wc_truth_isCC==1 and abs(wc_truth_nuPdg)==14 and abs(wc_truth_muonMomentum_3-0.105658)<0.1)))\"\n",
    "erin_sig_query = \"(wc_truth_single_photon==1 and (wc_truth_isCC==0 or (wc_truth_isCC==1 and abs(wc_truth_nuPdg)==14 and abs(wc_truth_muonMomentum_3-0.105658)<0.1)))\"\n",
    "all_df[\"erin_inclusive_1g_true_sig\"] = all_df.eval(erin_sig_query).astype(int)\n",
    "\n",
    "erin_sig_df = all_df.query(erin_sig_query)\n"
   ]
  },
  {
   "cell_type": "code",
   "execution_count": 4,
   "id": "f9276787",
   "metadata": {},
   "outputs": [
    {
     "data": {
      "image/png": "[encoded data removed]",
      "text/plain": [
       "<Figure size 1000x600 with 1 Axes>"
      ]
     },
     "metadata": {},
     "output_type": "display_data"
    }
   ],
   "source": [
    "plt.figure(figsize=(10, 6))\n",
    "plt.hist(erin_sig_df[\"true_num_gamma_pairconvert_in_FV\"], bins=50, weights=erin_sig_df[\"wc_net_weight\"])\n",
    "plt.xlabel(\"true_num_gamma_pairconvert_in_FV\")\n",
    "plt.ylabel(\"Number of Events\")\n",
    "plt.title(\"Erin True Inclusive 1g Signal Events\")\n",
    "plt.show()\n"
   ]
  },
  {
   "cell_type": "code",
   "execution_count": 21,
   "id": "7bdf4cb1",
   "metadata": {},
   "outputs": [
    {
     "data": {
      "text/html": [
       "<div>\n",
       "<style scoped>\n",
       "    .dataframe tbody tr th:only-of-type {\n",
       "        vertical-align: middle;\n",
       "    }\n",
       "\n",
       "    .dataframe tbody tr th {\n",
       "        vertical-align: top;\n",
       "    }\n",
       "\n",
       "    .dataframe thead th {\n",
       "        text-align: right;\n",
       "    }\n",
       "</style>\n",
       "<table border=\"1\" class=\"dataframe\">\n",
       "  <thead>\n",
       "    <tr style=\"text-align: right;\">\n",
       "      <th></th>\n",
       "      <th>filename</th>\n",
       "      <th>run</th>\n",
       "      <th>subrun</th>\n",
       "      <th>event</th>\n",
       "      <th>true_num_gamma_pairconvert_in_FV</th>\n",
       "      <th>wc_truth_single_photon</th>\n",
       "      <th>wc_truth_isCC</th>\n",
       "      <th>wc_truth_nuPdg</th>\n",
       "      <th>wc_truth_muonMomentum_3</th>\n",
       "    </tr>\n",
       "  </thead>\n",
       "  <tbody>\n",
       "    <tr>\n",
       "      <th>155</th>\n",
       "      <td>MCC9.10_Run4b_v10_04_07_09_BNB_nu_overlay_surp...</td>\n",
       "      <td>20453</td>\n",
       "      <td>491</td>\n",
       "      <td>24575</td>\n",
       "      <td>0.0</td>\n",
       "      <td>1.0</td>\n",
       "      <td>False</td>\n",
       "      <td>14.0</td>\n",
       "      <td>-1.000000</td>\n",
       "    </tr>\n",
       "    <tr>\n",
       "      <th>1292</th>\n",
       "      <td>MCC9.10_Run4b_v10_04_07_09_BNB_nu_overlay_surp...</td>\n",
       "      <td>21137</td>\n",
       "      <td>75</td>\n",
       "      <td>3764</td>\n",
       "      <td>0.0</td>\n",
       "      <td>1.0</td>\n",
       "      <td>True</td>\n",
       "      <td>14.0</td>\n",
       "      <td>2.130009</td>\n",
       "    </tr>\n",
       "    <tr>\n",
       "      <th>1340</th>\n",
       "      <td>MCC9.10_Run4b_v10_04_07_09_BNB_nu_overlay_surp...</td>\n",
       "      <td>20021</td>\n",
       "      <td>254</td>\n",
       "      <td>12724</td>\n",
       "      <td>0.0</td>\n",
       "      <td>1.0</td>\n",
       "      <td>True</td>\n",
       "      <td>14.0</td>\n",
       "      <td>0.291022</td>\n",
       "    </tr>\n",
       "    <tr>\n",
       "      <th>4754</th>\n",
       "      <td>MCC9.10_Run4b_v10_04_07_09_BNB_nu_overlay_surp...</td>\n",
       "      <td>19997</td>\n",
       "      <td>442</td>\n",
       "      <td>22107</td>\n",
       "      <td>0.0</td>\n",
       "      <td>1.0</td>\n",
       "      <td>False</td>\n",
       "      <td>14.0</td>\n",
       "      <td>-1.000000</td>\n",
       "    </tr>\n",
       "    <tr>\n",
       "      <th>4849</th>\n",
       "      <td>MCC9.10_Run4b_v10_04_07_09_BNB_nu_overlay_surp...</td>\n",
       "      <td>20423</td>\n",
       "      <td>175</td>\n",
       "      <td>8760</td>\n",
       "      <td>0.0</td>\n",
       "      <td>1.0</td>\n",
       "      <td>False</td>\n",
       "      <td>14.0</td>\n",
       "      <td>-1.000000</td>\n",
       "    </tr>\n",
       "  </tbody>\n",
       "</table>\n",
       "</div>"
      ],
      "text/plain": [
       "                                               filename    run  subrun  event  \\\n",
       "155   MCC9.10_Run4b_v10_04_07_09_BNB_nu_overlay_surp...  20453     491  24575   \n",
       "1292  MCC9.10_Run4b_v10_04_07_09_BNB_nu_overlay_surp...  21137      75   3764   \n",
       "1340  MCC9.10_Run4b_v10_04_07_09_BNB_nu_overlay_surp...  20021     254  12724   \n",
       "4754  MCC9.10_Run4b_v10_04_07_09_BNB_nu_overlay_surp...  19997     442  22107   \n",
       "4849  MCC9.10_Run4b_v10_04_07_09_BNB_nu_overlay_surp...  20423     175   8760   \n",
       "\n",
       "      true_num_gamma_pairconvert_in_FV  wc_truth_single_photon  wc_truth_isCC  \\\n",
       "155                                0.0                     1.0          False   \n",
       "1292                               0.0                     1.0           True   \n",
       "1340                               0.0                     1.0           True   \n",
       "4754                               0.0                     1.0          False   \n",
       "4849                               0.0                     1.0          False   \n",
       "\n",
       "      wc_truth_nuPdg  wc_truth_muonMomentum_3  \n",
       "155             14.0                -1.000000  \n",
       "1292            14.0                 2.130009  \n",
       "1340            14.0                 0.291022  \n",
       "4754            14.0                -1.000000  \n",
       "4849            14.0                -1.000000  "
      ]
     },
     "execution_count": 21,
     "metadata": {},
     "output_type": "execute_result"
    }
   ],
   "source": [
    "all_df.query(\"wc_truth_single_photon==1 and true_num_gamma_pairconvert_in_FV == 0\")[[\"filename\", \"run\", \"subrun\", \"event\", \"true_num_gamma_pairconvert_in_FV\", \"wc_truth_single_photon\", \"wc_truth_isCC\", \"wc_truth_nuPdg\", \"wc_truth_muonMomentum_3\"]].head()\n"
   ]
  },
  {
   "cell_type": "code",
   "execution_count": 6,
   "id": "45d09ea6",
   "metadata": {},
   "outputs": [],
   "source": [
    "f = uproot.open(\"/nevis/riverside/data/lhagaman/ngem/data_files/MCC9.10_Run4b_v10_04_07_09_BNB_nu_overlay_surprise_reco2_hist.root\")\n",
    "\n",
    "# loading Wire-Cell variables\n",
    "dic = {}\n",
    "\n",
    "dic.update(f[\"wcpselection\"][\"T_eval\"].arrays([\"run\", \"subrun\", \"event\"], library=\"np\"))\n",
    "dic.update(f[\"wcpselection\"][\"T_PFeval\"].arrays([\"truth_single_photon\", \"truth_Ntrack\", \"truth_id\", \"truth_pdg\", \"truth_mother\", \"truth_startMomentum\", \"truth_startXYZT\", \"truth_endXYZT\"], library=\"np\"))\n",
    "\n",
    "for col in dic:\n",
    "    dic[col] = dic[col].tolist()\n",
    "df = pd.DataFrame(dic)\n"
   ]
  },
  {
   "cell_type": "code",
   "execution_count": 22,
   "id": "0c94cceb",
   "metadata": {},
   "outputs": [
    {
     "data": {
      "text/html": [
       "<div>\n",
       "<style scoped>\n",
       "    .dataframe tbody tr th:only-of-type {\n",
       "        vertical-align: middle;\n",
       "    }\n",
       "\n",
       "    .dataframe tbody tr th {\n",
       "        vertical-align: top;\n",
       "    }\n",
       "\n",
       "    .dataframe thead th {\n",
       "        text-align: right;\n",
       "    }\n",
       "</style>\n",
       "<table border=\"1\" class=\"dataframe\">\n",
       "  <thead>\n",
       "    <tr style=\"text-align: right;\">\n",
       "      <th></th>\n",
       "      <th>run</th>\n",
       "      <th>subrun</th>\n",
       "      <th>event</th>\n",
       "      <th>truth_single_photon</th>\n",
       "      <th>truth_Ntrack</th>\n",
       "      <th>truth_id</th>\n",
       "      <th>truth_pdg</th>\n",
       "      <th>truth_mother</th>\n",
       "      <th>truth_startMomentum</th>\n",
       "      <th>truth_startXYZT</th>\n",
       "      <th>truth_endXYZT</th>\n",
       "    </tr>\n",
       "  </thead>\n",
       "  <tbody>\n",
       "    <tr>\n",
       "      <th>155</th>\n",
       "      <td>20453</td>\n",
       "      <td>491</td>\n",
       "      <td>24575</td>\n",
       "      <td>1</td>\n",
       "      <td>49</td>\n",
       "      <td>[1, 2, 3, 4, 5, 6, 7, 8, 11, 12, 13, 14, 15, 1...</td>\n",
       "      <td>[14, 2112, 2212, 111, 2112, 2112, 2112, 2112, ...</td>\n",
       "      <td>[0, 0, 0, 0, 0, 5, 5, 5, 5, 4, 4, 2, 2, 2, 2, ...</td>\n",
       "      <td>[[0.20815426, -0.029745, 1.1193933, 1.1389709]...</td>\n",
       "      <td>[[266.11984, -53.168415, 1015.86633, 3508.2388...</td>\n",
       "      <td>[[13903.989, -1997.5035, 74163.0, 5990.6445], ...</td>\n",
       "    </tr>\n",
       "  </tbody>\n",
       "</table>\n",
       "</div>"
      ],
      "text/plain": [
       "       run  subrun  event  truth_single_photon  truth_Ntrack  \\\n",
       "155  20453     491  24575                    1            49   \n",
       "\n",
       "                                              truth_id  \\\n",
       "155  [1, 2, 3, 4, 5, 6, 7, 8, 11, 12, 13, 14, 15, 1...   \n",
       "\n",
       "                                             truth_pdg  \\\n",
       "155  [14, 2112, 2212, 111, 2112, 2112, 2112, 2112, ...   \n",
       "\n",
       "                                          truth_mother  \\\n",
       "155  [0, 0, 0, 0, 0, 5, 5, 5, 5, 4, 4, 2, 2, 2, 2, ...   \n",
       "\n",
       "                                   truth_startMomentum  \\\n",
       "155  [[0.20815426, -0.029745, 1.1193933, 1.1389709]...   \n",
       "\n",
       "                                       truth_startXYZT  \\\n",
       "155  [[266.11984, -53.168415, 1015.86633, 3508.2388...   \n",
       "\n",
       "                                         truth_endXYZT  \n",
       "155  [[13903.989, -1997.5035, 74163.0, 5990.6445], ...  "
      ]
     },
     "execution_count": 22,
     "metadata": {},
     "output_type": "execute_result"
    }
   ],
   "source": [
    "interesting_df = df.query(\"run == 20453 and subrun == 491 and event == 24575\")\n",
    "interesting_df"
   ]
  },
  {
   "cell_type": "code",
   "execution_count": 23,
   "id": "538a1285",
   "metadata": {},
   "outputs": [
    {
     "name": "stdout",
     "output_type": "stream",
     "text": [
      "1      14                   0                    1.1389709            [ 266.11984   -53.168415 1015.86633 ] 10.638557            -8.132442           \n",
      "2      2112                 0                    1.0049362            [ 266.11984   -53.168415 1015.86633 ] 43.492878            -166.5175           \n",
      "3      2212                 0                    0.9826544            [ 266.11984   -53.168415 1015.86633 ] 56.255512            178.9919            \n",
      "4      111                  0                    0.15944903           [ 266.11984   -53.168415 1015.86633 ] 155.40291            -56.875595          \n",
      "5      2112                 0                    1.0144302            [ 266.11984   -53.168415 1015.86633 ] 80.06042             -39.480774          \n",
      "6      2112                 5                    0.9883135            [ 285.8316   -70.49427 1026.106  ] 81.64259             -65.36403           \n",
      "7      2112                 5                    0.94298977           [ 285.8316   -70.49427 1026.106  ] 161.47134            -163.44165          \n",
      "8      2112                 5                    0.9428509            [ 285.8316   -70.49427 1026.106  ] 77.45977             50.849533           \n",
      "12     22                   4                    0.058701243          [ 266.11984   -53.168415 1015.86633 ] 71.452               -26.232445          \n",
      "13     22                   4                    0.10074777           [ 266.11984   -53.168415 1015.86633 ] 162.06905            -170.74072          \n",
      "15     2112                 2                    0.9459232            [ 213.46373   -76.262955 1068.5645  ] 53.650715            179.22403           \n",
      "17     2112                 2                    0.9434115            [ 213.46373   -76.262955 1068.5645  ] 24.342295            -79.64383           \n",
      "19     2112                 2                    0.94168967           [ 213.46373   -76.262955 1068.5645  ] 45.696213            -2.0589232          \n",
      "20     2112                 2                    0.94069725           [ 213.46373   -76.262955 1068.5645  ] 90.64096             -8.479415           \n",
      "52     2112                 17                   0.9398194            [ 215.15433  -85.48393 1089.2842 ] 90.868324            91.790665           \n",
      "59     2112                 15                   0.9409547            [ 208.66154  -76.19809 1072.0892 ] 41.729862            -36.970467          \n",
      "71     2112                 8                    0.94097              [ 312.50867   -55.414524 1039.088   ] 69.62382             -39.23339           \n",
      "83     2112                 7                    0.9408904            [ 282.8163   -71.38847 1016.7441 ] 70.201454            13.831146           \n",
      "1178   11                   13                   0.08862148           [257.67218 -53.41836 991.2445 ] 163.14265            -164.48804          \n",
      "1181   11                   12                   0.044462275          [ 272.48816   -57.292347 1024.0796  ] 72.41721             -25.941378          \n",
      "1182   -11                  12                   0.014238968          [ 272.48816   -57.292347 1024.0796  ] 68.44112             -27.163658          \n",
      "1262   22                   1178                 0.026380122          [256.28903  -53.694508 987.4029  ] 159.02855            -160.64319          \n",
      "1296   11                   1262                 0.019542452          [240.72995 -57.82089 944.46704] 154.01784            -172.09761          \n"
     ]
    }
   ],
   "source": [
    "truth_ids = interesting_df[\"truth_id\"].to_numpy()\n",
    "truth_pdgs = interesting_df[\"truth_pdg\"].to_numpy()\n",
    "truth_mothers = interesting_df[\"truth_mother\"].to_numpy()\n",
    "truth_startXYZTs = interesting_df[\"truth_startXYZT\"].to_numpy()\n",
    "truth_startMomenta = interesting_df[\"truth_startMomentum\"].to_numpy()\n",
    "\n",
    "truth_energies = []\n",
    "for i in range(len(truth_startMomenta[0])):\n",
    "    truth_energies.append(truth_startMomenta[0][i][3])\n",
    "\n",
    "truth_thetas = []\n",
    "truth_phis = []\n",
    "for i in range(len(truth_startMomenta[0])):\n",
    "    truth_thetas.append(np.rad2deg(np.arccos(truth_startMomenta[0][i][2] / np.linalg.norm(truth_startMomenta[0][i][:3]))))\n",
    "    truth_phis.append(np.rad2deg(np.arctan2(truth_startMomenta[0][i][1], truth_startMomenta[0][i][0])))\n",
    "\n",
    "truth_xyz = []\n",
    "for i in range(len(truth_startXYZTs[0])):\n",
    "    truth_xyz.append(truth_startXYZTs[0][i][:3])\n",
    "\n",
    "for i in range(len(truth_ids[0])):\n",
    "    if truth_pdgs[0][i] < 10_000:\n",
    "        print(str(truth_ids[0][i]).ljust(6) + \" \" + str(truth_pdgs[0][i]).ljust(20) + \" \" + str(truth_mothers[0][i]).ljust(20) + \" \" + str(truth_energies[i]).ljust(20) + \" \" + str(truth_xyz[i]).ljust(20) + \" \" + str(truth_thetas[i]).ljust(20) + \" \" + str(truth_phis[i]).ljust(20))\n"
   ]
  },
  {
   "cell_type": "code",
   "execution_count": 24,
   "id": "d87e064b",
   "metadata": {},
   "outputs": [
    {
     "name": "stdout",
     "output_type": "stream",
     "text": [
      "id        pdg                 mother              energy              xyz                                     theta               phi                 \n",
      "1         14                  0                   1.1389709           [ 266.11984   -53.168415 1015.86633 ]   10.638557           -8.132442           \n",
      "4         111                 0                   0.15944903          [ 266.11984   -53.168415 1015.86633 ]   155.40291           -56.875595          \n",
      "12        22                  4                   0.058701243         [ 266.11984   -53.168415 1015.86633 ]   71.452              -26.232445          \n",
      "13        22                  4                   0.10074777          [ 266.11984   -53.168415 1015.86633 ]   162.06905           -170.74072          \n",
      "1178      11                  13                  0.08862148          [257.67218 -53.41836 991.2445 ]         163.14265           -164.48804          \n",
      "1181      11                  12                  0.044462275         [ 272.48816   -57.292347 1024.0796  ]   72.41721            -25.941378          \n",
      "1182      -11                 12                  0.014238968         [ 272.48816   -57.292347 1024.0796  ]   68.44112            -27.163658          \n",
      "1262      22                  1178                0.026380122         [256.28903  -53.694508 987.4029  ]      159.02855           -160.64319          \n",
      "1296      11                  1262                0.019542452         [240.72995 -57.82089 944.46704]         154.01784           -172.09761          \n"
     ]
    },
    {
     "data": {
      "text/plain": [
       "'\\ntpc_min_x = -1.\\ntpc_max_x = 254.3\\ntpc_min_y = -115.\\ntpc_max_y = 117.\\ntpc_min_z = 0.6\\ntpc_max_z = 1036.4\\n'"
      ]
     },
     "execution_count": 24,
     "metadata": {},
     "output_type": "execute_result"
    }
   ],
   "source": [
    "print(\"id\".ljust(10) + \"pdg\".ljust(20) + \"mother\".ljust(20) + \"energy\".ljust(20) + \"xyz\".ljust(40) + \"theta\".ljust(20) + \"phi\".ljust(20))\n",
    "\n",
    "for i in range(len(truth_ids[0])):\n",
    "    if truth_pdgs[0][i] < 10_000 and truth_pdgs[0][i] not in [2112, 2212, 211]:\n",
    "        print(str(truth_ids[0][i]).ljust(10) + str(truth_pdgs[0][i]).ljust(20) + str(truth_mothers[0][i]).ljust(20) + str(truth_energies[i]).ljust(20) + str(truth_xyz[i]).ljust(40) + str(truth_thetas[i]).ljust(20) + str(truth_phis[i]).ljust(20))\n",
    "\n",
    "\"\"\"\n",
    "tpc_min_x = -1.\n",
    "tpc_max_x = 254.3\n",
    "tpc_min_y = -115.\n",
    "tpc_max_y = 117.\n",
    "tpc_min_z = 0.6\n",
    "tpc_max_z = 1036.4\n",
    "\"\"\""
   ]
  },
  {
   "cell_type": "code",
   "execution_count": null,
   "id": "5bbcf91f",
   "metadata": {},
   "outputs": [],
   "source": []
  }
 ],
 "metadata": {
  "kernelspec": {
   "display_name": "uv_base",
   "language": "python",
   "name": "python3"
  },
  "language_info": {
   "codemirror_mode": {
    "name": "ipython",
    "version": 3
   },
   "file_extension": ".py",
   "mimetype": "text/x-python",
   "name": "python",
   "nbconvert_exporter": "python",
   "pygments_lexer": "ipython3",
   "version": "3.9.21"
  }
 },
 "nbformat": 4,
 "nbformat_minor": 5
}
