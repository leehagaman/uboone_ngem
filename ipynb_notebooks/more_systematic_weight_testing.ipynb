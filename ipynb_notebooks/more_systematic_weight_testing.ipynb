{
 "cells": [
  {
   "cell_type": "code",
   "execution_count": null,
   "id": "a46b05ea",
   "metadata": {},
   "outputs": [],
   "source": [
    "import uproot\n",
    "import polars as pl\n",
    "print(\"uproot version: \", uproot.__version__)\n",
    "\n",
    "import tempfile\n",
    "import subprocess\n",
    "\n",
    "import sys\n",
    "import os\n",
    "\n",
    "\n",
    "\n",
    "import matplotlib.pyplot as plt\n",
    "import numpy as np\n",
    "\n",
    "import ast\n"
   ]
  },
  {
   "cell_type": "code",
   "execution_count": null,
   "id": "fff411f1",
   "metadata": {},
   "outputs": [],
   "source": [
    "import ROOT, os, sys\n",
    "sys.path.append(os.path.abspath(os.path.join(os.getcwd(), '..')))\n",
    "from src.file_locations import data_files_location"
   ]
  },
  {
   "cell_type": "code",
   "execution_count": null,
   "id": "1aaecaee",
   "metadata": {},
   "outputs": [],
   "source": [
    "def get_weights_pairs(file_path, tree_path=\"nuselection/NeutrinoSelectionFilter\", branch_name=\"weights\", max_entries=-1):\n",
    "\n",
    "    print(\"opening file..\")\n",
    "    f = ROOT.TFile.Open(file_path)\n",
    "    if not f or f.IsZombie():\n",
    "        raise RuntimeError(\"Cannot open file\")\n",
    "\n",
    "    print(\"getting tree..\")\n",
    "    \n",
    "    t = f.Get(tree_path)\n",
    "    if not t:\n",
    "        raise RuntimeError(\"Tree not found\")\n",
    "\n",
    "    print(\"t: \", t)\n",
    "    \n",
    "    nentries = t.GetEntries()\n",
    "    if max_entries >= 0 and max_entries < nentries:\n",
    "        nentries = max_entries\n",
    "\n",
    "    print(\"nentries: \", nentries)\n",
    "    \n",
    "    rows = []\n",
    "    for i in range(nentries):\n",
    "        print(\"current entry: \", i)\n",
    "        t.GetEntry(i)\n",
    "        weights_map = getattr(t, branch_name)\n",
    "        print(\"weights_map: \", weights_map)\n",
    "        \n",
    "        entry_data = []\n",
    "        for key, values in weights_map:\n",
    "            for val in values:\n",
    "                entry_data.append([key, val])\n",
    "                print(\"adding: \", key, val)\n",
    "        rows.append(entry_data)\n",
    "    \n",
    "    f.Close()\n",
    "    return rows"
   ]
  },
  {
   "cell_type": "code",
   "execution_count": null,
   "id": "f72c69f4",
   "metadata": {},
   "outputs": [],
   "source": [
    "print(\"about to call get_weights_pairs\", flush=True)\n",
    "\n",
    "weights_other = get_weights_pairs(\n",
    "    data_files_location + \"/checkout_MCC9.10_Run4a4c4d5_v10_04_07_13_BNB_nu_overlay_surprise_reco2_hist_4c.root\",\n",
    "    max_entries=10,\n",
    ")\n",
    "\n",
    "weights_other"
   ]
  },
  {
   "cell_type": "code",
   "execution_count": null,
   "id": "b6840a80",
   "metadata": {},
   "outputs": [],
   "source": []
  },
  {
   "cell_type": "code",
   "execution_count": null,
   "id": "aacac536",
   "metadata": {},
   "outputs": [],
   "source": []
  }
 ],
 "metadata": {
  "kernelspec": {
   "display_name": "uv_base",
   "language": "python",
   "name": "python3"
  },
  "language_info": {
   "codemirror_mode": {
    "name": "ipython",
    "version": 3
   },
   "file_extension": ".py",
   "mimetype": "text/x-python",
   "name": "python",
   "nbconvert_exporter": "python",
   "pygments_lexer": "ipython3",
   "version": "3.11.13"
  }
 },
 "nbformat": 4,
 "nbformat_minor": 5
}
